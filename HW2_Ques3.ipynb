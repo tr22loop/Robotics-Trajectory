{
  "cells": [
    {
      "cell_type": "markdown",
      "metadata": {
        "id": "QLaRZsuTKGV1"
      },
      "source": [
        "#MD Touhidur Rahman\n",
        "#ID :2011873042"
      ]
    },
    {
      "cell_type": "markdown",
      "source": [
        "# Answer Number 3"
      ],
      "metadata": {
        "id": "epoq1FJS7d1g"
      }
    },
    {
      "cell_type": "code",
      "execution_count": 1,
      "metadata": {
        "id": "dUWoKzmMWTpi"
      },
      "outputs": [],
      "source": [
        "#import libraries\n",
        "import numpy as np\n",
        "import matplotlib.pyplot as plt"
      ]
    },
    {
      "cell_type": "code",
      "execution_count": 2,
      "metadata": {
        "colab": {
          "base_uri": "https://localhost:8080/"
        },
        "id": "neA648efX2bS",
        "outputId": "4a8e8096-8e68-4138-855c-67d6920ca741"
      },
      "outputs": [
        {
          "output_type": "execute_result",
          "data": {
            "text/plain": [
              "array([0.000e+00, 1.000e-02, 2.000e-02, ..., 1.497e+01, 1.498e+01,\n",
              "       1.499e+01])"
            ]
          },
          "metadata": {},
          "execution_count": 2
        }
      ],
      "source": [
        "t = np.arange(0, 15, 0.01)\n",
        "t"
      ]
    },
    {
      "cell_type": "code",
      "execution_count": 3,
      "metadata": {
        "colab": {
          "base_uri": "https://localhost:8080/"
        },
        "id": "D4JZFR4mMu9X",
        "outputId": "2d2e0a5e-86a9-4a36-cd3a-3accb32a127e"
      },
      "outputs": [
        {
          "output_type": "execute_result",
          "data": {
            "text/plain": [
              "1500"
            ]
          },
          "metadata": {},
          "execution_count": 3
        }
      ],
      "source": [
        "len(t)"
      ]
    },
    {
      "cell_type": "code",
      "execution_count": 4,
      "metadata": {
        "id": "boiuiu9thySN"
      },
      "outputs": [],
      "source": [
        "# Declare Final time T\n",
        "T= 15\n",
        "Tsq = np.power(T,2)\n",
        "Tcb = np.power(T,3)"
      ]
    },
    {
      "cell_type": "code",
      "execution_count": 5,
      "metadata": {
        "colab": {
          "base_uri": "https://localhost:8080/"
        },
        "id": "PgtEBvc9h0Yt",
        "outputId": "3af28e7d-f080-4a23-ca4a-39d1257f35ca"
      },
      "outputs": [
        {
          "output_type": "execute_result",
          "data": {
            "text/plain": [
              "array([[   1,    0,    0,    0,    0,    0,    0,    0],\n",
              "       [   0,    1,    0,    0,    0,    0,    0,    0],\n",
              "       [   0,    0,    0,    0,    1,    0,    0,    0],\n",
              "       [   0,    0,    0,    0,    0,    1,    0,    0],\n",
              "       [   1,   15,  225, 3375,    0,    0,    0,    0],\n",
              "       [   0,    1,   30,  675,    0,    0,    0,    0],\n",
              "       [   0,    0,    0,    0,    1,   15,  225, 3375],\n",
              "       [   0,    0,    0,    0,    0,    1,   30,  675]])"
            ]
          },
          "metadata": {},
          "execution_count": 5
        }
      ],
      "source": [
        "#initialized A\n",
        "A = np.array([[1, 0, 0, 0,  0, 0, 0, 0],\n",
        "              [0, 1, 0, 0,  0, 0, 0, 0],\n",
        "              [0, 0, 0, 0,  1, 0, 0, 0],\n",
        "              [0, 0, 0, 0,  0, 1, 0, 0],\n",
        "              [1, T, Tsq, Tcb,  0, 0, 0, 0],\n",
        "              [0, 1, 2*T, 3*Tsq,  0, 0, 0, 0],\n",
        "              [0, 0, 0, 0,  1, T, Tsq, Tcb,],\n",
        "              [0, 0, 0, 0,  0, 1, 2*T, 3*Tsq]\n",
        "              ]\n",
        "            )\n",
        "A"
      ]
    },
    {
      "cell_type": "code",
      "execution_count": 6,
      "metadata": {
        "colab": {
          "base_uri": "https://localhost:8080/"
        },
        "id": "i2wvUTTJh6FO",
        "outputId": "073e04f1-16a6-4381-9213-19e4b41f50c5"
      },
      "outputs": [
        {
          "output_type": "execute_result",
          "data": {
            "text/plain": [
              "array([[ 1.00000000e+00,  6.57760495e-13, -5.52538061e-18,\n",
              "         0.00000000e+00, -6.19490567e-16,  3.81438435e-15,\n",
              "         0.00000000e+00,  0.00000000e+00],\n",
              "       [ 1.93424569e-16,  1.00000000e+00, -5.52332145e-17,\n",
              "         0.00000000e+00, -1.94900710e-16, -2.52873958e-17,\n",
              "         0.00000000e+00,  0.00000000e+00],\n",
              "       [-1.33333333e-02, -1.33333333e-01,  7.47210043e-18,\n",
              "         0.00000000e+00,  1.33333333e-02, -6.66666667e-02,\n",
              "         0.00000000e+00,  0.00000000e+00],\n",
              "       [ 5.92592593e-04,  4.44444444e-03, -2.50992886e-19,\n",
              "         0.00000000e+00, -5.92592593e-04,  4.44444444e-03,\n",
              "         0.00000000e+00,  0.00000000e+00],\n",
              "       [-2.04165123e-17,  3.53844622e-17,  1.00000000e+00,\n",
              "         4.14882717e-13,  2.04165123e-17, -1.02234920e-16,\n",
              "         5.02970729e-16, -3.22867442e-16],\n",
              "       [ 2.19473768e-18,  5.05716168e-17, -6.94486066e-17,\n",
              "         1.00000000e+00, -2.19473768e-18,  1.09897097e-17,\n",
              "        -5.40679670e-17,  1.25776347e-15],\n",
              "       [-2.15314420e-20, -7.32082839e-18, -1.33333333e-02,\n",
              "        -1.33333333e-01,  2.15314420e-20, -1.07769583e-19,\n",
              "         1.33333333e-02, -6.66666667e-02],\n",
              "       [-2.27057986e-21,  2.52717599e-19,  5.92592593e-04,\n",
              "         4.44444444e-03,  2.27057986e-21, -1.13714767e-20,\n",
              "        -5.92592593e-04,  4.44444444e-03]])"
            ]
          },
          "metadata": {},
          "execution_count": 6
        }
      ],
      "source": [
        "# pesudo- inverse\n",
        "Ainv = np.linalg.pinv(A)\n",
        "Ainv"
      ]
    },
    {
      "cell_type": "code",
      "execution_count": 7,
      "metadata": {
        "colab": {
          "base_uri": "https://localhost:8080/"
        },
        "id": "I_lcqstkh8Bd",
        "outputId": "9ccf21f8-8a7a-419e-9e01-3d91f51cc0c1"
      },
      "outputs": [
        {
          "output_type": "execute_result",
          "data": {
            "text/plain": [
              "array([[ 0. ],\n",
              "       [ 0. ],\n",
              "       [ 0. ],\n",
              "       [-0.5],\n",
              "       [ 5. ],\n",
              "       [ 0. ],\n",
              "       [ 5. ],\n",
              "       [-0.5]])"
            ]
          },
          "metadata": {},
          "execution_count": 7
        }
      ],
      "source": [
        "#initialized b\n",
        "b =  np.array([[0],#x1(0)\n",
        "               [0],#1\n",
        "               [0],#x3(0)\n",
        "               [-0.5],#x2(0)\n",
        "               [5],#x1(T)\n",
        "               [0],#1\n",
        "               [5],#x3(T)\n",
        "               [-0.5] #x2(T)\n",
        "              ]\n",
        "            )\n",
        "\n",
        "b"
      ]
    },
    {
      "cell_type": "code",
      "execution_count": 8,
      "metadata": {
        "colab": {
          "base_uri": "https://localhost:8080/"
        },
        "id": "sRcdYGrDiXR2",
        "outputId": "4cacc434-0118-411e-8eac-942ee5a4b74a"
      },
      "outputs": [
        {
          "output_type": "execute_result",
          "data": {
            "text/plain": [
              "array([[-3.09745283e-15],\n",
              "       [-9.74503549e-16],\n",
              "       [ 6.66666667e-02],\n",
              "       [-2.96296296e-03],\n",
              "       [-2.04662988e-13],\n",
              "       [-5.00000000e-01],\n",
              "       [ 1.66666667e-01],\n",
              "       [-7.40740741e-03]])"
            ]
          },
          "metadata": {},
          "execution_count": 8
        }
      ],
      "source": [
        "#matrix multiplication x = Ainv * b\n",
        "x= np.matmul(Ainv, b)\n",
        "x\n"
      ]
    },
    {
      "cell_type": "code",
      "execution_count": 9,
      "metadata": {
        "colab": {
          "base_uri": "https://localhost:8080/"
        },
        "id": "BKZdcve-igG2",
        "outputId": "be18c757-4fc4-41e3-c545-9d6a0cf77a71"
      },
      "outputs": [
        {
          "output_type": "execute_result",
          "data": {
            "text/plain": [
              "array([-3.09745283e-15])"
            ]
          },
          "metadata": {},
          "execution_count": 9
        }
      ],
      "source": [
        "a11 = x[0]\n",
        "a11"
      ]
    },
    {
      "cell_type": "code",
      "execution_count": 10,
      "metadata": {
        "colab": {
          "base_uri": "https://localhost:8080/"
        },
        "id": "Q9a9pA2QimYF",
        "outputId": "1bf62dc8-ce81-49ba-b32d-533e38090380"
      },
      "outputs": [
        {
          "output_type": "execute_result",
          "data": {
            "text/plain": [
              "array([-9.74503549e-16])"
            ]
          },
          "metadata": {},
          "execution_count": 10
        }
      ],
      "source": [
        "a12 = x[1]\n",
        "a12\n"
      ]
    },
    {
      "cell_type": "code",
      "execution_count": 11,
      "metadata": {
        "colab": {
          "base_uri": "https://localhost:8080/"
        },
        "id": "jvEAJvZoioZE",
        "outputId": "ff1ae276-0556-498c-f835-2c25876282a1"
      },
      "outputs": [
        {
          "output_type": "execute_result",
          "data": {
            "text/plain": [
              "array([0.06666667])"
            ]
          },
          "metadata": {},
          "execution_count": 11
        }
      ],
      "source": [
        "a13 = x[2]\n",
        "a13"
      ]
    },
    {
      "cell_type": "code",
      "execution_count": 12,
      "metadata": {
        "colab": {
          "base_uri": "https://localhost:8080/"
        },
        "id": "fyljNZdVioTt",
        "outputId": "0c5a5f3e-18de-4886-d15f-9f3f5acaf879"
      },
      "outputs": [
        {
          "output_type": "execute_result",
          "data": {
            "text/plain": [
              "array([-0.00296296])"
            ]
          },
          "metadata": {},
          "execution_count": 12
        }
      ],
      "source": [
        "a14 = x[3]\n",
        "a14"
      ]
    },
    {
      "cell_type": "code",
      "execution_count": 13,
      "metadata": {
        "colab": {
          "base_uri": "https://localhost:8080/"
        },
        "id": "1p750RowioQM",
        "outputId": "e3471fcb-5662-4fea-9267-c716edb0488e"
      },
      "outputs": [
        {
          "output_type": "execute_result",
          "data": {
            "text/plain": [
              "array([-2.04662988e-13])"
            ]
          },
          "metadata": {},
          "execution_count": 13
        }
      ],
      "source": [
        "a21 = x[4]\n",
        "a21"
      ]
    },
    {
      "cell_type": "code",
      "execution_count": 14,
      "metadata": {
        "colab": {
          "base_uri": "https://localhost:8080/"
        },
        "id": "UG4ZdCKrioMU",
        "outputId": "bdff0c75-da51-4dbd-9434-5516bf76acdc"
      },
      "outputs": [
        {
          "output_type": "execute_result",
          "data": {
            "text/plain": [
              "array([-0.5])"
            ]
          },
          "metadata": {},
          "execution_count": 14
        }
      ],
      "source": [
        "a22 = x[5]\n",
        "a22"
      ]
    },
    {
      "cell_type": "code",
      "execution_count": 15,
      "metadata": {
        "colab": {
          "base_uri": "https://localhost:8080/"
        },
        "id": "sIicIrFXioE-",
        "outputId": "6a78cbe9-8433-48e4-847a-e88f0fa5b9af"
      },
      "outputs": [
        {
          "output_type": "execute_result",
          "data": {
            "text/plain": [
              "array([0.16666667])"
            ]
          },
          "metadata": {},
          "execution_count": 15
        }
      ],
      "source": [
        "a23 = x[6]\n",
        "a23"
      ]
    },
    {
      "cell_type": "code",
      "execution_count": 16,
      "metadata": {
        "colab": {
          "base_uri": "https://localhost:8080/"
        },
        "id": "8gP6-nxKin5d",
        "outputId": "e6398b34-5589-4188-b487-988f457a8d4a"
      },
      "outputs": [
        {
          "output_type": "execute_result",
          "data": {
            "text/plain": [
              "array([-0.00740741])"
            ]
          },
          "metadata": {},
          "execution_count": 16
        }
      ],
      "source": [
        "a24 = x[7]\n",
        "a24"
      ]
    },
    {
      "cell_type": "code",
      "execution_count": 17,
      "metadata": {
        "colab": {
          "base_uri": "https://localhost:8080/"
        },
        "id": "MpzaRM1Mizc0",
        "outputId": "a6610b06-c299-4121-cdd3-37876fbfdc80"
      },
      "outputs": [
        {
          "output_type": "execute_result",
          "data": {
            "text/plain": [
              "(array([-3.09745283e-15,  6.66370370e-06,  2.66429630e-05, ...,\n",
              "         4.99994008e+00,  4.99997336e+00,  4.99999334e+00]),\n",
              " array([-2.04662988e-13, -4.98334074e-03, -9.93339259e-03, ...,\n",
              "         5.01485020e+00,  5.00993339e+00,  5.00498334e+00]))"
            ]
          },
          "metadata": {},
          "execution_count": 17
        }
      ],
      "source": [
        "for i in t:\n",
        "  X = a11 + (a12* t) + (a13 * np.power(t,2)) + (a14 * np.power(t,3))\n",
        "  Y = a21 + (a22* t) + (a23 * np.power(t,2)) + (a24 * np.power(t,3) )\n",
        "\n",
        "X, Y"
      ]
    },
    {
      "cell_type": "code",
      "execution_count": 18,
      "metadata": {
        "colab": {
          "base_uri": "https://localhost:8080/",
          "height": 489
        },
        "id": "yJLRzRloi9oU",
        "outputId": "37889f26-121c-4622-c607-5c90783abcf2"
      },
      "outputs": [
        {
          "output_type": "execute_result",
          "data": {
            "text/plain": [
              "Text(0, 0.5, 'Y')"
            ]
          },
          "metadata": {},
          "execution_count": 18
        },
        {
          "output_type": "display_data",
          "data": {
            "text/plain": [
              "<Figure size 640x480 with 1 Axes>"
            ],
            "image/png": "[encoded data removed]"
          },
          "metadata": {}
        }
      ],
      "source": [
        "plt.plot(X,Y)\n",
        "plt.title('X vs Y')\n",
        "plt.xlabel('X')\n",
        "plt.ylabel('Y')"
      ]
    },
    {
      "cell_type": "code",
      "execution_count": 19,
      "metadata": {
        "id": "lFAub9fM7VC1"
      },
      "outputs": [],
      "source": [
        "X_new = a11 + a12 * t + a13 * t**2 + a14 * t**3\n",
        "Y_new = a21 + a22 * t + a23 * t**2 + a24 * t**3"
      ]
    },
    {
      "cell_type": "code",
      "execution_count": 20,
      "metadata": {
        "id": "scGpxIP77VC1"
      },
      "outputs": [],
      "source": [
        "Xdd = np.gradient(np.gradient(X_new, t), t)\n",
        "Ydd = np.gradient(np.gradient(Y_new, t), t)"
      ]
    },
    {
      "cell_type": "code",
      "execution_count": 21,
      "metadata": {
        "id": "gomkmiM67VC1"
      },
      "outputs": [],
      "source": [
        "theta = np.arctan2(np.gradient(Y_new, t), np.gradient(X_new, t))\n",
        "V = np.sqrt(np.gradient(X_new, t)**2 + np.gradient(Y_new, t)**2)\n",
        "a = np.cos(theta) * Xdd + np.sin(theta) * Ydd\n",
        "\n",
        "omega = (-np.sin(theta) * Xdd + np.cos(theta) * Ydd) / V"
      ]
    },
    {
      "cell_type": "code",
      "execution_count": 22,
      "metadata": {
        "id": "mMO72fV-7VC2"
      },
      "outputs": [],
      "source": [
        "noise_std_v = 0.01\n",
        "noise_std_theta = 0.001\n",
        "noise_v = np.random.normal(0, noise_std_v, len(t))\n",
        "noise_theta = np.random.normal(0, noise_std_theta, len(t))"
      ]
    },
    {
      "cell_type": "code",
      "execution_count": 23,
      "metadata": {
        "id": "eByYw6gQ7VC2"
      },
      "outputs": [],
      "source": [
        "# initialize\n",
        "# x_final = X_new[0]\n",
        "# y_final = Y_new[0]\n",
        "# theta_final = theta[0]\n",
        "# V_final = V[0]\n",
        "x_final = X_new[0]\n",
        "y_final = Y_new[0]\n",
        "theta_final = theta[0]\n",
        "V_final = V[0]"
      ]
    },
    {
      "cell_type": "code",
      "execution_count": 24,
      "metadata": {
        "id": "H1aL-Hgj7VC2"
      },
      "outputs": [],
      "source": [
        "x_states = [x_final]\n",
        "y_states = [y_final]\n"
      ]
    },
    {
      "cell_type": "code",
      "execution_count": 25,
      "metadata": {
        "id": "Y5plgsHt7VC2"
      },
      "outputs": [],
      "source": [
        "# for i in range(1, len(t)):\n",
        "#     x_final += V_final * np.cos(theta_final) * (t[i] - t[i-1])\n",
        "#     y_final += V_final * np.sin(theta_final) * (t[i] - t[i-1])\n",
        "#     theta_final += omega[i] * (t[i] - t[i-1])\n",
        "#     V_final += a[i] * (t[i] - t[i-1])\n",
        "\n",
        "#     x_states.append(x_final)\n",
        "#     y_states.append(y_final)\n",
        "for i in range(1, len(t)):\n",
        "    x_final += V_final * np.cos(theta_final) * (t[i] - t[i-1])\n",
        "    y_final += V_final * np.sin(theta_final) * (t[i] - t[i-1])\n",
        "\n",
        "    # Add noise to theta and V\n",
        "    theta_final += omega[i] * (t[i] - t[i-1]) + np.random.normal(0, noise_std_theta)\n",
        "    V_final += a[i] * (t[i] - t[i-1]) + np.random.normal(0, noise_std_v)\n",
        "\n",
        "    x_states.append(x_final)\n",
        "    y_states.append(y_final)"
      ]
    },
    {
      "cell_type": "code",
      "execution_count": 26,
      "metadata": {
        "scrolled": true,
        "colab": {
          "base_uri": "https://localhost:8080/",
          "height": 472
        },
        "id": "s9m4xeST7VC2",
        "outputId": "bfec8b34-5f2b-44d7-bf76-65a7c1ee0127"
      },
      "outputs": [
        {
          "output_type": "display_data",
          "data": {
            "text/plain": [
              "<Figure size 640x480 with 1 Axes>"
            ],
            "image/png": "[encoded data removed]"
          },
          "metadata": {}
        }
      ],
      "source": [
        "plt.figure()\n",
        "plt.plot(X, Y, label='Desired Trajectory', color='blue')\n",
        "plt.plot(x_states, y_states, label='Robot Trajectory', linestyle='dotted', color='red')\n",
        "plt.xlabel('X')\n",
        "plt.ylabel('Y')\n",
        "plt.legend()\n",
        "plt.title('Desired and Robot Trajectories')\n",
        "plt.grid(True)\n",
        "plt.show()\n"
      ]
    },
    {
      "cell_type": "code",
      "execution_count": 27,
      "metadata": {
        "colab": {
          "base_uri": "https://localhost:8080/",
          "height": 472
        },
        "id": "bkRSwNxR7VC2",
        "outputId": "c2314c17-f011-4488-8351-2c84bd00b05a"
      },
      "outputs": [
        {
          "output_type": "display_data",
          "data": {
            "text/plain": [
              "<Figure size 640x480 with 1 Axes>"
            ],
            "image/png": "[encoded data removed]"
          },
          "metadata": {}
        }
      ],
      "source": [
        "plt.figure()\n",
        "plt.plot(X, Y, label='Desired Trajectory', color='blue')\n",
        "plt.plot(x_states, y_states, label='Robot Trajectory', linestyle='-', linewidth=5, color='red', alpha=0.5, marker='o', markersize=1, markeredgecolor='red')\n",
        "plt.xlabel('X')\n",
        "plt.ylabel('Y')\n",
        "plt.legend()\n",
        "plt.title('Desired and Robot Trajectories')\n",
        "plt.grid(True)\n",
        "plt.show()\n"
      ]
    },
    {
      "cell_type": "code",
      "execution_count": 27,
      "metadata": {
        "id": "hUPez80l7VC2"
      },
      "outputs": [],
      "source": []
    }
  ],
  "metadata": {
    "colab": {
      "provenance": []
    },
    "kernelspec": {
      "display_name": "Python 3 (ipykernel)",
      "language": "python",
      "name": "python3"
    },
    "language_info": {
      "codemirror_mode": {
        "name": "ipython",
        "version": 3
      },
      "file_extension": ".py",
      "mimetype": "text/x-python",
      "name": "python",
      "nbconvert_exporter": "python",
      "pygments_lexer": "ipython3",
      "version": "3.9.13"
    }
  },
  "nbformat": 4,
  "nbformat_minor": 0
}